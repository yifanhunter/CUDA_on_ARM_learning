{
 "cells": [
  {
   "cell_type": "markdown",
   "id": "4e1badd2",
   "metadata": {},
   "source": [
    "# CUDA编程模型---矩阵乘法"
   ]
  },
  {
   "cell_type": "markdown",
   "id": "01c3ee1d",
   "metadata": {},
   "source": [
    "#### 通过向量加法，我们已经学会了如何调用线程。接下来，我们来实践一下，如何利用Cuda处理矩阵。今天的课程将会介绍：\n",
    "1. 二维矩阵的乘法\n",
    "2. 如何分配线程和GPU存储单元"
   ]
  },
  {
   "cell_type": "markdown",
   "id": "65714153",
   "metadata": {},
   "source": [
    "#### 1.矩阵乘法是科学计算和深度学习领域常见的操作，我们先来看一看CPU代码如何处理矩阵乘法"
   ]
  },
  {
   "cell_type": "markdown",
   "id": "c2ed22a8",
   "metadata": {},
   "source": [
    "    void cpu_matrix_mult(int *h_a, int *h_b, int *h_result, int m, int n, int k) \n",
    "    {\n",
    "        for (int i = 0; i < m; ++i) \n",
    "        {\n",
    "            for (int j = 0; j < k; ++j) \n",
    "            {\n",
    "                int tmp = 0.0;\n",
    "                for (int h = 0; h < n; ++h) \n",
    "                {\n",
    "                    tmp += h_a[i * n + h] * h_b[h * k + j];\n",
    "                }\n",
    "                h_result[i * k + j] = tmp;\n",
    "            }\n",
    "        }\n",
    "    }"
   ]
  },
  {
   "cell_type": "markdown",
   "id": "6352d635",
   "metadata": {},
   "source": [
    "#### 2.这时，我们看到在CPU代码中，需要嵌套三个for循环，也就是说CPU的线程会一个接一个的求结果矩阵中的每一个数值，直到处理完所有数值。那么，我们在GPU中就可以申请很多个线程，每个线程来求结果矩阵中的一个数值，并同时完成。![matrix_mul](matrix_mul.png)"
   ]
  },
  {
   "cell_type": "markdown",
   "id": "29b490a5",
   "metadata": {},
   "source": [
    "那么，首先我们要得到每一个执行线程，在Grid所有线程中的(x,y)坐标，如下图所示，即(Thread_x, Thread_y) \n",
    "![matrix_mul2](matrix_mul2.png)"
   ]
  },
  {
   "cell_type": "markdown",
   "id": "0791e2b0",
   "metadata": {},
   "source": [
    "![array_2to1.png](array_2to1.png)"
   ]
  },
  {
   "cell_type": "markdown",
   "id": "7ea4aa4a",
   "metadata": {},
   "source": [
    "也就是说，以上面的CPU代码为例，我们要让编号为(Thread_x, Thread_y)的线程读取a矩阵中的一行和b矩阵中的一列，然后把对应元素乘积并累加。"
   ]
  },
  {
   "cell_type": "markdown",
   "id": "8787ee9d",
   "metadata": {},
   "source": [
    "接下来，我们在[matrix_mul.cu](matrix_mul.cu)中完成这一过程，如果遇到麻烦，请参考[result1.cu](result1.cu)"
   ]
  },
  {
   "cell_type": "markdown",
   "id": "c18c8dd4",
   "metadata": {},
   "source": [
    "修改Makefile文件，并编译"
   ]
  },
  {
   "cell_type": "code",
   "execution_count": null,
   "id": "c310ed7f",
   "metadata": {},
   "outputs": [],
   "source": [
    "!make"
   ]
  },
  {
   "cell_type": "markdown",
   "id": "3d51ca54",
   "metadata": {},
   "source": [
    "执行，并查看结果是否正确"
   ]
  },
  {
   "cell_type": "code",
   "execution_count": null,
   "id": "8b96ae21",
   "metadata": {},
   "outputs": [],
   "source": [
    "!./matrix_mul"
   ]
  },
  {
   "cell_type": "markdown",
   "id": "98ed050c",
   "metadata": {},
   "source": [
    "利用nvprof来查看程序性能"
   ]
  },
  {
   "cell_type": "code",
   "execution_count": null,
   "id": "2feca7b0",
   "metadata": {},
   "outputs": [],
   "source": [
    "!sudo /usr/local/cuda/bin/nvprof ./matrix_mul"
   ]
  },
  {
   "cell_type": "markdown",
   "id": "8aa984ae",
   "metadata": {},
   "source": [
    "修改矩阵大小为1000*1000，并查看效果"
   ]
  },
  {
   "cell_type": "code",
   "execution_count": null,
   "id": "356518b0",
   "metadata": {},
   "outputs": [],
   "source": [
    "!make"
   ]
  },
  {
   "cell_type": "code",
   "execution_count": null,
   "id": "24741cf4",
   "metadata": {},
   "outputs": [],
   "source": [
    "!sudo /usr/local/cuda/bin/nvprof ./matrix_mul"
   ]
  },
  {
   "cell_type": "markdown",
   "id": "677517c6",
   "metadata": {},
   "source": [
    "课后作业：\n",
    "1. 当我们能申请的线程数很少，远远不够的时候怎么办？\n",
    "2. 修改[im2gray.cu](im2gray.cu), 完成将RGB图像转化为灰度图的程序. 如果遇到麻烦, 请参考[im2gray_result.cu](im2gray_result.cu)"
   ]
  },
  {
   "cell_type": "code",
   "execution_count": null,
   "id": "409f7241",
   "metadata": {},
   "outputs": [],
   "source": []
  }
 ],
 "metadata": {
  "kernelspec": {
   "display_name": "Python 3",
   "language": "python",
   "name": "python3"
  },
  "language_info": {
   "codemirror_mode": {
    "name": "ipython",
    "version": 3
   },
   "file_extension": ".py",
   "mimetype": "text/x-python",
   "name": "python",
   "nbconvert_exporter": "python",
   "pygments_lexer": "ipython3",
   "version": "3.6.9"
  }
 },
 "nbformat": 4,
 "nbformat_minor": 5
}
