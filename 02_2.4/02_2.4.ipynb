{
 "cells": [
  {
   "cell_type": "markdown",
   "id": "5158904d",
   "metadata": {},
   "source": [
    "# CUDA编程模型---矩阵乘法"
   ]
  },
  {
   "cell_type": "markdown",
   "id": "ce86c097",
   "metadata": {},
   "source": [
    "#### 通过向量加法，我们已经学会了如何调用线程。接下来，我们来实践一下，如何利用Cuda处理矩阵。今天的课程将会介绍：\n",
    "1. 二维矩阵的乘法\n",
    "2. 如何分配线程和GPU存储单元"
   ]
  },
  {
   "cell_type": "markdown",
   "id": "1420a87e",
   "metadata": {},
   "source": [
    "#### 1.矩阵乘法是科学计算和深度学习领域常见的操作，我们先来看一看CPU代码如何处理矩阵乘法"
   ]
  },
  {
   "cell_type": "markdown",
   "id": "7840acf9",
   "metadata": {},
   "source": [
    "    void cpu_matrix_mult(int *h_a, int *h_b, int *h_result, int m, int n, int k) \n",
    "    {\n",
    "        for (int i = 0; i < m; ++i) \n",
    "        {\n",
    "            for (int j = 0; j < k; ++j) \n",
    "            {\n",
    "                int tmp = 0.0;\n",
    "                for (int h = 0; h < n; ++h) \n",
    "                {\n",
    "                    tmp += h_a[i * n + h] * h_b[h * k + j];\n",
    "                }\n",
    "                h_result[i * k + j] = tmp;\n",
    "            }\n",
    "        }\n",
    "    }"
   ]
  },
  {
   "cell_type": "markdown",
   "id": "61482a58",
   "metadata": {},
   "source": [
    "#### 2.这时，我们看到在CPU代码中，需要嵌套三个for循环，也就是说CPU的线程会一个接一个的求结果矩阵中的每一个数值，直到处理完所有数值。那么，我们在GPU中就可以申请很多个线程，每个线程来求结果矩阵中的一个数值，并同时完成。![matrix_mul](matrix_mul.png)"
   ]
  },
  {
   "cell_type": "markdown",
   "id": "324fd2b9",
   "metadata": {},
   "source": [
    "那么，首先我们要得到每一个执行线程，在Grid所有线程中的(x,y)坐标，如下图所示，即(Thread_x, Thread_y) \n",
    "![matrix_mul2](matrix_mul2.png)"
   ]
  },
  {
   "cell_type": "markdown",
   "id": "d29f3eec",
   "metadata": {},
   "source": [
    "![array_2to1.png](array_2to1.png)"
   ]
  },
  {
   "cell_type": "markdown",
   "id": "72722983",
   "metadata": {},
   "source": [
    "也就是说，以上面的CPU代码为例，我们要让编号为(Thread_x, Thread_y)的线程读取a矩阵中的一行和b矩阵中的一列，然后把对应元素乘积并累加。"
   ]
  },
  {
   "cell_type": "markdown",
   "id": "ecc97438",
   "metadata": {},
   "source": [
    "接下来，我们在[matrix_mul.cu](matrix_mul.cu)中完成这一过程，如果遇到麻烦，请参考[result1.cu](result1.cu)"
   ]
  },
  {
   "cell_type": "markdown",
   "id": "6e6ec848",
   "metadata": {},
   "source": [
    "修改Makefile文件，并编译"
   ]
  },
  {
   "cell_type": "code",
   "execution_count": 14,
   "id": "20a8c3af",
   "metadata": {},
   "outputs": [
    {
     "name": "stdout",
     "output_type": "stream",
     "text": [
      "/usr/local/cuda/bin/nvcc -arch=compute_80 -code=sm_80  matrix_mul.cu -o ./matrix_mul\n"
     ]
    }
   ],
   "source": [
    "!make"
   ]
  },
  {
   "cell_type": "markdown",
   "id": "901a3409",
   "metadata": {},
   "source": [
    "执行，并查看结果是否正确"
   ]
  },
  {
   "cell_type": "code",
   "execution_count": 15,
   "id": "f7471278",
   "metadata": {},
   "outputs": [
    {
     "name": "stdout",
     "output_type": "stream",
     "text": [
      "计算和 CPU 基本一样 ~\n",
      "23154685 \n"
     ]
    }
   ],
   "source": [
    "!./matrix_mul"
   ]
  },
  {
   "cell_type": "markdown",
   "id": "f38be2fc",
   "metadata": {},
   "source": [
    "利用nvprof来查看程序性能"
   ]
  },
  {
   "cell_type": "code",
   "execution_count": 5,
   "id": "c8771f34",
   "metadata": {},
   "outputs": [
    {
     "name": "stdout",
     "output_type": "stream",
     "text": [
      "The --print-api-trace  switch is ignored by nsys.\n",
      "WARNING: matrix_mul and any of its children processes will be profiled.\n",
      "\n",
      "计算和 CPU 基本一样 ~\n",
      "Generating '/tmp/nsys-report-150b.qdstrm'\n",
      "[1/7] [========================100%] report1.nsys-rep\n",
      "[2/7] [========================100%] report1.sqlite\n",
      "[3/7] Executing 'nvtxsum' stats report\n",
      "SKIPPED: /mnt/CUDA_on_ARM/02_2.4/report1.sqlite does not contain NV Tools Extension (NVTX) data.\n",
      "[4/7] Executing 'cudaapisum' stats report\n",
      "\n",
      "CUDA API Statistics:\n",
      "\n",
      " Time (%)  Total Time (ns)  Num Calls   Avg (ns)   Med (ns)  Min (ns)  Max (ns)   StdDev (ns)        Name      \n",
      " --------  ---------------  ---------  ----------  --------  --------  ---------  -----------  ----------------\n",
      "     99.8        203584295          4  50896073.8    5950.5      4125  203568269  101781463.5  cudaMallocHost  \n",
      "      0.1           181445          3     60481.7    4107.0      3025     174313      98582.3  cudaMalloc      \n",
      "      0.1           180379          3     60126.3    7573.0      3709     169097      94391.1  cudaFree        \n",
      "      0.0            68989          3     22996.3   18297.0     15846      34846      10335.0  cudaMemcpy      \n",
      "      0.0            25340          1     25340.0   25340.0     25340      25340          0.0  cudaLaunchKernel\n",
      "      0.0            14556          3      4852.0    3804.0      3780       6972       1836.0  cudaFreeHost    \n",
      "\n",
      "[5/7] Executing 'gpukernsum' stats report\n",
      "\n",
      "CUDA Kernel Statistics:\n",
      "\n",
      " Time (%)  Total Time (ns)  Instances  Avg (ns)  Med (ns)  Min (ns)  Max (ns)  StdDev (ns)                         Name                        \n",
      " --------  ---------------  ---------  --------  --------  --------  --------  -----------  ---------------------------------------------------\n",
      "    100.0             6272          1    6272.0    6272.0      6272      6272          0.0  gpu_matrix_mult(int *, int *, int *, int, int, int)\n",
      "\n",
      "[6/7] Executing 'gpumemtimesum' stats report\n",
      "\n",
      "CUDA Memory Operation Statistics (by time):\n",
      "\n",
      " Time (%)  Total Time (ns)  Count  Avg (ns)  Med (ns)  Min (ns)  Max (ns)  StdDev (ns)      Operation     \n",
      " --------  ---------------  -----  --------  --------  --------  --------  -----------  ------------------\n",
      "     74.7            12096      2    6048.0    6048.0      5632      6464        588.3  [CUDA memcpy HtoD]\n",
      "     25.3             4096      1    4096.0    4096.0      4096      4096          0.0  [CUDA memcpy DtoH]\n",
      "\n",
      "[7/7] Executing 'gpumemsizesum' stats report\n",
      "\n",
      "CUDA Memory Operation Statistics (by size):\n",
      "\n",
      " Total (MB)  Count  Avg (MB)  Med (MB)  Min (MB)  Max (MB)  StdDev (MB)      Operation     \n",
      " ----------  -----  --------  --------  --------  --------  -----------  ------------------\n",
      "      0.080      2     0.040     0.040     0.040     0.040        0.000  [CUDA memcpy HtoD]\n",
      "      0.040      1     0.040     0.040     0.040     0.040        0.000  [CUDA memcpy DtoH]\n",
      "\n",
      "Generated:\n",
      "    /mnt/CUDA_on_ARM/02_2.4/report1.nsys-rep\n",
      "    /mnt/CUDA_on_ARM/02_2.4/report1.sqlite\n"
     ]
    }
   ],
   "source": [
    "# !sudo /usr/local/cuda/bin/nvprof ./matrix_mul\n",
    "!/usr/local/cuda/bin/nsys nvprof --print-api-trace ./matrix_mul"
   ]
  },
  {
   "cell_type": "markdown",
   "id": "0319bcd8",
   "metadata": {},
   "source": [
    "修改矩阵大小为1000*1000，并查看效果"
   ]
  },
  {
   "cell_type": "code",
   "execution_count": 6,
   "id": "be26c525",
   "metadata": {},
   "outputs": [
    {
     "name": "stdout",
     "output_type": "stream",
     "text": [
      "/usr/local/cuda/bin/nvcc -arch=compute_80 -code=sm_80  matrix_mul.cu -o ./matrix_mul\n"
     ]
    }
   ],
   "source": [
    "!make"
   ]
  },
  {
   "cell_type": "code",
   "execution_count": 7,
   "id": "a5f788b7",
   "metadata": {},
   "outputs": [
    {
     "name": "stdout",
     "output_type": "stream",
     "text": [
      "The --print-api-trace  switch is ignored by nsys.\n",
      "WARNING: matrix_mul and any of its children processes will be profiled.\n",
      "\n",
      "计算和 CPU 基本一样 ~\n",
      "Generating '/tmp/nsys-report-bf85.qdstrm'\n",
      "[1/7] [========================100%] report2.nsys-rep\n",
      "[2/7] [========================100%] report2.sqlite\n",
      "[3/7] Executing 'nvtxsum' stats report\n",
      "SKIPPED: /mnt/CUDA_on_ARM/02_2.4/report2.sqlite does not contain NV Tools Extension (NVTX) data.\n",
      "[4/7] Executing 'cudaapisum' stats report\n",
      "\n",
      "CUDA API Statistics:\n",
      "\n",
      " Time (%)  Total Time (ns)  Num Calls   Avg (ns)   Med (ns)   Min (ns)  Max (ns)   StdDev (ns)        Name      \n",
      " --------  ---------------  ---------  ----------  ---------  --------  ---------  -----------  ----------------\n",
      "     54.3        205614597          4  51403649.3  1590566.0   1571659  200861806   99638771.6  cudaMallocHost  \n",
      "     44.5        168206193          3  56068731.0   321519.0    318253  167566421   96559832.0  cudaFree        \n",
      "      0.6          2083558          3    694519.3   364403.0    337782    1381373     594981.6  cudaMemcpy      \n",
      "      0.5          1912338          3    637446.0   601228.0    578405     732705      83282.2  cudaFreeHost    \n",
      "      0.1           506082          3    168694.0   147317.0    144300     214465      39667.5  cudaMalloc      \n",
      "      0.0            27661          1     27661.0    27661.0     27661      27661          0.0  cudaLaunchKernel\n",
      "\n",
      "[5/7] Executing 'gpukernsum' stats report\n",
      "\n",
      "CUDA Kernel Statistics:\n",
      "\n",
      " Time (%)  Total Time (ns)  Instances  Avg (ns)   Med (ns)   Min (ns)  Max (ns)  StdDev (ns)                         Name                        \n",
      " --------  ---------------  ---------  ---------  ---------  --------  --------  -----------  ---------------------------------------------------\n",
      "    100.0          1066015          1  1066015.0  1066015.0   1066015   1066015          0.0  gpu_matrix_mult(int *, int *, int *, int, int, int)\n",
      "\n",
      "[6/7] Executing 'gpumemtimesum' stats report\n",
      "\n",
      "CUDA Memory Operation Statistics (by time):\n",
      "\n",
      " Time (%)  Total Time (ns)  Count  Avg (ns)  Med (ns)  Min (ns)  Max (ns)  StdDev (ns)      Operation     \n",
      " --------  ---------------  -----  --------  --------  --------  --------  -----------  ------------------\n",
      "     68.2           653406      2  326703.0  326703.0    326239    327167        656.2  [CUDA memcpy HtoD]\n",
      "     31.8           304864      1  304864.0  304864.0    304864    304864          0.0  [CUDA memcpy DtoH]\n",
      "\n",
      "[7/7] Executing 'gpumemsizesum' stats report\n",
      "\n",
      "CUDA Memory Operation Statistics (by size):\n",
      "\n",
      " Total (MB)  Count  Avg (MB)  Med (MB)  Min (MB)  Max (MB)  StdDev (MB)      Operation     \n",
      " ----------  -----  --------  --------  --------  --------  -----------  ------------------\n",
      "      8.000      2     4.000     4.000     4.000     4.000        0.000  [CUDA memcpy HtoD]\n",
      "      4.000      1     4.000     4.000     4.000     4.000        0.000  [CUDA memcpy DtoH]\n",
      "\n",
      "Generated:\n",
      "    /mnt/CUDA_on_ARM/02_2.4/report2.nsys-rep\n",
      "    /mnt/CUDA_on_ARM/02_2.4/report2.sqlite\n"
     ]
    }
   ],
   "source": [
    "!/usr/local/cuda/bin/nsys nvprof --print-api-trace ./matrix_mul"
   ]
  },
  {
   "cell_type": "markdown",
   "id": "8850cdb7",
   "metadata": {},
   "source": [
    "课后作业：\n",
    "1. 当我们能申请的线程数很少，远远不够的时候怎么办？\n",
    "2. 修改[im2gray.cu](im2gray.cu), 完成将RGB图像转化为灰度图的程序. 如果遇到麻烦, 请参考[im2gray_result.cu](im2gray_result.cu)"
   ]
  },
  {
   "cell_type": "code",
   "execution_count": 11,
   "id": "79de64b9",
   "metadata": {},
   "outputs": [],
   "source": [
    "# 这里根据自己的环境进行了修改。\n",
    "!/usr/local/cuda/bin/nvcc -arch=compute_80 -code=sm_80 im2gray.cu -L /usr/lib/x86_64-linux-gnu/libopencv*.so -I /usr/include/opencv2 -o im2gray"
   ]
  },
  {
   "cell_type": "code",
   "execution_count": 12,
   "id": "70fd0d58",
   "metadata": {},
   "outputs": [],
   "source": [
    "!./im2gray"
   ]
  },
  {
   "cell_type": "code",
   "execution_count": null,
   "id": "00793dd0",
   "metadata": {},
   "outputs": [],
   "source": []
  }
 ],
 "metadata": {
  "kernelspec": {
   "display_name": "Python 3 (ipykernel)",
   "language": "python",
   "name": "python3"
  },
  "language_info": {
   "codemirror_mode": {
    "name": "ipython",
    "version": 3
   },
   "file_extension": ".py",
   "mimetype": "text/x-python",
   "name": "python",
   "nbconvert_exporter": "python",
   "pygments_lexer": "ipython3",
   "version": "3.8.12"
  }
 },
 "nbformat": 4,
 "nbformat_minor": 5
}
