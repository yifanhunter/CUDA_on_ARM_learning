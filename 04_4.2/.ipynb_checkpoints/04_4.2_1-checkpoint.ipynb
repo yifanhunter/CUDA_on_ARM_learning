{
 "cells": [
  {
   "cell_type": "markdown",
   "id": "functioning-administrator",
   "metadata": {},
   "source": [
    "# CUDA编程模型---基于ARM平台的Jetson NANO存储单元调用"
   ]
  },
  {
   "cell_type": "markdown",
   "id": "competent-plaza",
   "metadata": {},
   "source": [
    "Jetson系列（包括TX1，TX2，Xavier，NANO等）用的都是SoC芯片，CPU和GPU集成在一个芯片上，自然用的是同一个内存，因此GPU可以直接访问内存上的数据（100多GB/s）而不用受到PCIE的限制（10多GB/s)。\n",
    "\n",
    "因此，在CUDA编程中可以舍弃cudaMemcpy系列函数（相当于在同一个内存上徒劳地复制了一遍），转而使用zero copy或者统一内存unified memory\n",
    "今天的课程将介绍，在NANO上使用Pinned Memory加速程序"
   ]
  },
  {
   "cell_type": "markdown",
   "id": "industrial-ebony",
   "metadata": {},
   "source": [
    "CUDA应用程序可以使用各种类型的内存缓冲区，例如设备内存，可分页的主机内存，固定内存和统一内存. 即使将这些内存缓冲区类型分配在同一物理设备上，每种类型也具有不同的访问和缓存行为，如下图所示. 选择最合适的内存缓冲区类型对于有效执行应用程序很重要.\n",
    "![memory_type](memory_type.png)"
   ]
  },
  {
   "cell_type": "markdown",
   "id": "welsh-remains",
   "metadata": {},
   "source": [
    "接下来，我们就修改[matrix_mul.cu](matrix_mul.cu)文件，去掉```cudaMalloc()``` 和 ```cudaMemcpy()```，而采用统一内存的方法。  \n",
    "如果遇到麻烦，请参考[result1.cu](result1.cu)"
   ]
  },
  {
   "cell_type": "markdown",
   "id": "recovered-magic",
   "metadata": {},
   "source": [
    "编译，并执行程序"
   ]
  },
  {
   "cell_type": "code",
   "execution_count": null,
   "id": "indonesian-ability",
   "metadata": {},
   "outputs": [],
   "source": [
    "!make"
   ]
  },
  {
   "cell_type": "code",
   "execution_count": null,
   "id": "affecting-smell",
   "metadata": {},
   "outputs": [],
   "source": [
    "!./matrix_mul"
   ]
  },
  {
   "cell_type": "markdown",
   "id": "harmful-brighton",
   "metadata": {},
   "source": [
    "利用nvprof查看性能"
   ]
  },
  {
   "cell_type": "code",
   "execution_count": null,
   "id": "victorian-christianity",
   "metadata": {},
   "outputs": [],
   "source": [
    "!sudo /usr/local/cuda/bin/nvprof ./matrix_mul"
   ]
  },
  {
   "cell_type": "markdown",
   "id": "italic-flavor",
   "metadata": {},
   "source": [
    "这时，我们和上一节课的发现程序执行快了很多，并且数据传输的部分 [CUDA memcpy HtoD]  和  [CUDA memcpy DtoH] 不见了"
   ]
  },
  {
   "cell_type": "markdown",
   "id": "fixed-spring",
   "metadata": {},
   "source": [
    "课后作业：\n",
    "- 尝试利用统一内存和shared memory完成矩阵转置操作"
   ]
  },
  {
   "cell_type": "code",
   "execution_count": null,
   "id": "visible-magazine",
   "metadata": {},
   "outputs": [],
   "source": []
  }
 ],
 "metadata": {
  "kernelspec": {
   "display_name": "Python 3",
   "language": "python",
   "name": "python3"
  },
  "language_info": {
   "codemirror_mode": {
    "name": "ipython",
    "version": 3
   },
   "file_extension": ".py",
   "mimetype": "text/x-python",
   "name": "python",
   "nbconvert_exporter": "python",
   "pygments_lexer": "ipython3",
   "version": "3.6.9"
  }
 },
 "nbformat": 4,
 "nbformat_minor": 5
}
