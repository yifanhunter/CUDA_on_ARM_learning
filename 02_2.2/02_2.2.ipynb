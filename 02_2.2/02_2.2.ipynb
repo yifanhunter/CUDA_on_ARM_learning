{
 "cells": [
  {
   "cell_type": "markdown",
   "id": "4bbfd746",
   "metadata": {},
   "source": [
    "# CUDA编程模型---线程组织"
   ]
  },
  {
   "cell_type": "markdown",
   "id": "2d41e5e3",
   "metadata": {},
   "source": [
    "### 本次课程将介绍以下内容：\n",
    "1. 使用多个线程的核函数\n",
    "2. 使用线程索引\n",
    "3. 多维网络\n",
    "4. 网格与线程块\n",
    "\n"
   ]
  },
  {
   "cell_type": "markdown",
   "id": "8156a112",
   "metadata": {},
   "source": [
    "1.当我们在讨论GPU和CUDA时，我们一定会考虑如何调用每一个线程，如何定为每一个线程。其实，在CUDA编程模型中，每一个线程都有一个唯一的标识符或者序号，而我们可以通过__threadIdx__来得到当前的线程在线程块中的序号,通过__blockIdx__来得到该线程所在的线程块在grid当中的序号，即：  \n",
    "\n",
    "    threadIdx.x 是执行当前kernel函数的线程在block中的x方向的序号  \n",
    "    \n",
    "    blockIdx.x 是执行当前kernel函数的线程所在block，在grid中的x方向的序号"
   ]
  },
  {
   "cell_type": "markdown",
   "id": "214fd345",
   "metadata": {},
   "source": [
    "接下来创建[Index_of_thread.cu](Index_of_thread.cu)文件，并在核函数中打印执行该核函数的线程编号和所在的线程块的编号，如果遇到麻烦，请参考[result1.cu](result1.cu)"
   ]
  },
  {
   "cell_type": "markdown",
   "id": "b9ccc9aa",
   "metadata": {},
   "source": [
    "创建好了之后，我们开始编译"
   ]
  },
  {
   "cell_type": "code",
   "execution_count": null,
   "id": "30fb3593",
   "metadata": {},
   "outputs": [],
   "source": [
    "!make"
   ]
  },
  {
   "cell_type": "markdown",
   "id": "04e2503d",
   "metadata": {},
   "source": [
    "执行Index_of_thread"
   ]
  },
  {
   "cell_type": "code",
   "execution_count": null,
   "id": "74d6aea9",
   "metadata": {},
   "outputs": [],
   "source": [
    "!./Index_of_thread"
   ]
  },
  {
   "cell_type": "markdown",
   "id": "1f0bc915",
   "metadata": {},
   "source": [
    "修改<<<...>>>中的值，查看执行结果，这里建议分三组：<<<33,5>>>, <<<5,33>>>,<<<5,65>>>"
   ]
  },
  {
   "cell_type": "code",
   "execution_count": null,
   "id": "16f16bbb",
   "metadata": {},
   "outputs": [],
   "source": [
    "!make"
   ]
  },
  {
   "cell_type": "code",
   "execution_count": null,
   "id": "4e06edb2",
   "metadata": {},
   "outputs": [],
   "source": [
    "!./Index_of_thread"
   ]
  },
  {
   "cell_type": "markdown",
   "id": "e9bc0aad",
   "metadata": {},
   "source": [
    "思考一下为什么会出现这种情况！  \n",
    "  \n",
    "    \n",
    "    "
   ]
  },
  {
   "cell_type": "markdown",
   "id": "b0484a7e",
   "metadata": {},
   "source": [
    "2.那我们如何能够得到一个线程在所有的线程中的索引值？比如：我们申请了4个线程块，每个线程块有8个线程，那么我们就申请了30个线程，那么我需要找到第3个线程块（编号为2的block）里面的第6个线程（编号为5的thread）在所有线程中的索引值怎么办？  \n",
    "这时，我们就需要blockDim 和 gridDim这两个变量：  \n",
    "- gridDim表示一个grid中包含多少个block  \n",
    "- blockDim表示一个block中包含多少个线程  \n",
    "\n",
    "也就是说，在上面的那个例子中，gridDim.x=4, blockDim.x=8  \n",
    "那么，我们要找的第22个线程（编号为21）的唯一索引就应该是，index = blockIdx.x * blockDim.x + threadIdx.x\n",
    "![index_of_thread](index_of_thread.png)"
   ]
  },
  {
   "cell_type": "markdown",
   "id": "bfa993cb",
   "metadata": {},
   "source": [
    "接下来，我们通过完成一个向量加法的实例来实践一下，我们来实现的cpu代码如下:  \n",
    "\n",
    "    #include <math.h>\n",
    "    #include <stdlib.h>\n",
    "    #include <stdio.h>\n",
    "    \n",
    "    void add(const double *x, const double *y, double *z, const int N)\n",
    "    {\n",
    "        for (int n = 0; n < N; ++n)\n",
    "        {\n",
    "            z[n] = x[n] + y[n];\n",
    "        }\n",
    "    }\n",
    "\n",
    "    void check(const double *z, const int N)\n",
    "    {\n",
    "        bool has_error = false;\n",
    "        for (int n = 0; n < N; ++n)\n",
    "        {\n",
    "            if (fabs(z[n] - c) > (1.0e-10))\n",
    "            {\n",
    "                has_error = true;\n",
    "            }\n",
    "        }\n",
    "        printf(\"%s\\n\", has_error ? \"Errors\" : \"Pass\");\n",
    "    }\n",
    "\n",
    "\n",
    "    int main(void)\n",
    "    {\n",
    "        const int N = 100000000;\n",
    "        const int M = sizeof(double) * N;\n",
    "        double *x = (double*) malloc(M);\n",
    "        double *y = (double*) malloc(M);\n",
    "        double *z = (double*) malloc(M);\n",
    "    \n",
    "        for (int n = 0; n < N; ++n)\n",
    "        {\n",
    "            x[n] = 1;\n",
    "            y[n] = 2;\n",
    "        }\n",
    "\n",
    "        add(x, y, z, N);\n",
    "        check(z, N);\n",
    "    \n",
    "        free(x);\n",
    "        free(y);\n",
    "        free(z);\n",
    "        return 0;\n",
    "    }"
   ]
  },
  {
   "cell_type": "markdown",
   "id": "818c9c44",
   "metadata": {},
   "source": [
    "为了完成这个程序，我们先要将数据传输给GPU，并在GPU完成计算的时候，将数据从GPU中传输给CPU内存。这时我们就需要考虑如何申请GPU存储单元，以及内存和显存之前的数据传输。在[result2](result2.cu)中我们展示了如何完成这一过程的方法：  \n",
    "\n",
    "我们利用cudaMalloc()来进行GPU存储单元的申请，利用cudaMemcpy()来完成数据的传输"
   ]
  },
  {
   "cell_type": "markdown",
   "id": "41d0a0b5",
   "metadata": {},
   "source": [
    "接下来，我们在[vectorAdd.cu](vectorAdd.cu)文件中完成这一过程，如有困难，请参考[result2](result2.cu)"
   ]
  },
  {
   "cell_type": "markdown",
   "id": "f5e1d8b0",
   "metadata": {},
   "source": [
    "修改Makefile文件，并编译执行"
   ]
  },
  {
   "cell_type": "code",
   "execution_count": null,
   "id": "70941670",
   "metadata": {},
   "outputs": [],
   "source": [
    "!make"
   ]
  },
  {
   "cell_type": "code",
   "execution_count": null,
   "id": "a9545ba1",
   "metadata": {},
   "outputs": [],
   "source": [
    "!./vectorAdd"
   ]
  },
  {
   "cell_type": "markdown",
   "id": "7d998276",
   "metadata": {},
   "source": [
    "利用nvprof查看程序性能"
   ]
  },
  {
   "cell_type": "code",
   "execution_count": null,
   "id": "09a1216e",
   "metadata": {},
   "outputs": [],
   "source": [
    "!sudo /usr/local/cuda/bin/nvprof --print-api-trace ./vectorAdd"
   ]
  },
  {
   "cell_type": "markdown",
   "id": "94b76aa9",
   "metadata": {},
   "source": [
    "课后作业：  \n",
    "1. 如果我们设置的线程数过大，比如设置grid_size = (N + block_size - 1) / block_size+10000，会产生什么后果？如何避免这种后果？ \n",
    "2. 如果我们的要处理的数据太多，远远超过我们能申请的线程数怎么办？\n",
    "3. 修改[sobel.cu](sobel.cu)完成Sobel边缘检测kernel优化,如果遇到问题, 请参考[sobel_result.cu](sobel_result.cu)\n",
    "\n",
    "----\n",
    "编译:"
   ]
  },
  {
   "cell_type": "code",
   "execution_count": null,
   "id": "ed383221",
   "metadata": {},
   "outputs": [],
   "source": [
    "!/usr/local/cuda/bin/nvcc sobel.cu -L /usr/lib/aarch64-linux-gnu/libopencv*.so -I /usr/include/opencv4 -o sobel"
   ]
  },
  {
   "cell_type": "markdown",
   "id": "c6390143",
   "metadata": {},
   "source": [
    "执行:"
   ]
  },
  {
   "cell_type": "code",
   "execution_count": null,
   "id": "87c5f646",
   "metadata": {},
   "outputs": [],
   "source": [
    "!./sobel"
   ]
  }
 ],
 "metadata": {
  "kernelspec": {
   "display_name": "Python 3 (ipykernel)",
   "language": "python",
   "name": "python3"
  },
  "language_info": {
   "codemirror_mode": {
    "name": "ipython",
    "version": 3
   },
   "file_extension": ".py",
   "mimetype": "text/x-python",
   "name": "python",
   "nbconvert_exporter": "python",
   "pygments_lexer": "ipython3",
   "version": "3.8.10"
  }
 },
 "nbformat": 4,
 "nbformat_minor": 5
}
