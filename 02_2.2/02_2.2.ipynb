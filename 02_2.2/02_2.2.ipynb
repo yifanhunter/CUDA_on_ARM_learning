{
 "cells": [
  {
   "cell_type": "markdown",
   "id": "ff942a4a",
   "metadata": {},
   "source": [
    "# CUDA编程模型---线程组织"
   ]
  },
  {
   "cell_type": "markdown",
   "id": "4e88d392",
   "metadata": {},
   "source": [
    "### 本次课程将介绍以下内容：\n",
    "1. 使用多个线程的核函数\n",
    "2. 使用线程索引\n",
    "3. 多维网络\n",
    "4. 网格与线程块\n",
    "\n"
   ]
  },
  {
   "cell_type": "markdown",
   "id": "75cb15d6",
   "metadata": {},
   "source": [
    "1.当我们在讨论GPU和CUDA时，我们一定会考虑如何调用每一个线程，如何定为每一个线程。其实，在CUDA编程模型中，每一个线程都有一个唯一的标识符或者序号，而我们可以通过__threadIdx__来得到当前的线程在线程块中的序号,通过__blockIdx__来得到该线程所在的线程块在grid当中的序号，即：  \n",
    "\n",
    "    threadIdx.x 是执行当前kernel函数的线程在block中的x方向的序号  \n",
    "    \n",
    "    blockIdx.x 是执行当前kernel函数的线程所在block，在grid中的x方向的序号"
   ]
  },
  {
   "cell_type": "markdown",
   "id": "791be8d6",
   "metadata": {},
   "source": [
    "接下来创建[Index_of_thread.cu](Index_of_thread.cu)文件，并在核函数中打印执行该核函数的线程编号和所在的线程块的编号，如果遇到麻烦，请参考[result1.cu](result1.cu)"
   ]
  },
  {
   "cell_type": "markdown",
   "id": "e618388a",
   "metadata": {},
   "source": [
    "创建好了之后，我们开始编译"
   ]
  },
  {
   "cell_type": "code",
   "execution_count": 27,
   "id": "16a23732",
   "metadata": {},
   "outputs": [
    {
     "name": "stdout",
     "output_type": "stream",
     "text": [
      "/usr/local/cuda/bin/nvcc -arch=compute_80 -code=sm_80 Index_of_thread.cu -o ./Index_of_thread\n"
     ]
    }
   ],
   "source": [
    "!make"
   ]
  },
  {
   "cell_type": "markdown",
   "id": "a3f49dec",
   "metadata": {},
   "source": [
    "执行Index_of_thread"
   ]
  },
  {
   "cell_type": "code",
   "execution_count": 28,
   "id": "9313dc6b",
   "metadata": {},
   "outputs": [
    {
     "name": "stdout",
     "output_type": "stream",
     "text": [
      "Hello World from block 2 and thread 0!\n",
      "Hello World from block 2 and thread 1!\n",
      "Hello World from block 2 and thread 2!\n",
      "Hello World from block 2 and thread 3!\n",
      "Hello World from block 2 and thread 4!\n",
      "Hello World from block 1 and thread 0!\n",
      "Hello World from block 1 and thread 1!\n",
      "Hello World from block 1 and thread 2!\n",
      "Hello World from block 1 and thread 3!\n",
      "Hello World from block 1 and thread 4!\n",
      "Hello World from block 3 and thread 0!\n",
      "Hello World from block 3 and thread 1!\n",
      "Hello World from block 3 and thread 2!\n",
      "Hello World from block 3 and thread 3!\n",
      "Hello World from block 3 and thread 4!\n",
      "Hello World from block 4 and thread 0!\n",
      "Hello World from block 4 and thread 1!\n",
      "Hello World from block 4 and thread 2!\n",
      "Hello World from block 4 and thread 3!\n",
      "Hello World from block 4 and thread 4!\n",
      "Hello World from block 0 and thread 0!\n",
      "Hello World from block 0 and thread 1!\n",
      "Hello World from block 0 and thread 2!\n",
      "Hello World from block 0 and thread 3!\n",
      "Hello World from block 0 and thread 4!\n"
     ]
    }
   ],
   "source": [
    "!./Index_of_thread"
   ]
  },
  {
   "cell_type": "markdown",
   "id": "414aa58a",
   "metadata": {},
   "source": [
    "修改<<<...>>>中的值，查看执行结果，这里建议分三组：<<<33,5>>>, <<<5,33>>>,<<<5,65>>>"
   ]
  },
  {
   "cell_type": "code",
   "execution_count": 31,
   "id": "33e44f91",
   "metadata": {},
   "outputs": [
    {
     "name": "stdout",
     "output_type": "stream",
     "text": [
      "/usr/local/cuda/bin/nvcc -arch=compute_80 -code=sm_80 Index_of_thread.cu -o ./Index_of_thread\n"
     ]
    }
   ],
   "source": [
    "!make"
   ]
  },
  {
   "cell_type": "code",
   "execution_count": 62,
   "id": "4d45213c",
   "metadata": {},
   "outputs": [
    {
     "name": "stdout",
     "output_type": "stream",
     "text": [
      "Hello World from block 1 and thread 32!\n",
      "Hello World from block 2 and thread 32!\n",
      "Hello World from block 3 and thread 32!\n",
      "Hello World from block 4 and thread 32!\n",
      "Hello World from block 0 and thread 32!\n",
      "Hello World from block 3 and thread 0!\n",
      "Hello World from block 3 and thread 1!\n",
      "Hello World from block 3 and thread 2!\n",
      "Hello World from block 3 and thread 3!\n",
      "Hello World from block 3 and thread 4!\n",
      "Hello World from block 3 and thread 5!\n",
      "Hello World from block 3 and thread 6!\n",
      "Hello World from block 3 and thread 7!\n",
      "Hello World from block 3 and thread 8!\n",
      "Hello World from block 3 and thread 9!\n",
      "Hello World from block 3 and thread 10!\n",
      "Hello World from block 3 and thread 11!\n",
      "Hello World from block 3 and thread 12!\n",
      "Hello World from block 3 and thread 13!\n",
      "Hello World from block 3 and thread 14!\n",
      "Hello World from block 3 and thread 15!\n",
      "Hello World from block 3 and thread 16!\n",
      "Hello World from block 3 and thread 17!\n",
      "Hello World from block 3 and thread 18!\n",
      "Hello World from block 3 and thread 19!\n",
      "Hello World from block 3 and thread 20!\n",
      "Hello World from block 3 and thread 21!\n",
      "Hello World from block 3 and thread 22!\n",
      "Hello World from block 3 and thread 23!\n",
      "Hello World from block 3 and thread 24!\n",
      "Hello World from block 3 and thread 25!\n",
      "Hello World from block 3 and thread 26!\n",
      "Hello World from block 3 and thread 27!\n",
      "Hello World from block 3 and thread 28!\n",
      "Hello World from block 3 and thread 29!\n",
      "Hello World from block 3 and thread 30!\n",
      "Hello World from block 3 and thread 31!\n",
      "Hello World from block 2 and thread 0!\n",
      "Hello World from block 2 and thread 1!\n",
      "Hello World from block 2 and thread 2!\n",
      "Hello World from block 2 and thread 3!\n",
      "Hello World from block 2 and thread 4!\n",
      "Hello World from block 2 and thread 5!\n",
      "Hello World from block 2 and thread 6!\n",
      "Hello World from block 2 and thread 7!\n",
      "Hello World from block 2 and thread 8!\n",
      "Hello World from block 2 and thread 9!\n",
      "Hello World from block 2 and thread 10!\n",
      "Hello World from block 2 and thread 11!\n",
      "Hello World from block 2 and thread 12!\n",
      "Hello World from block 2 and thread 13!\n",
      "Hello World from block 2 and thread 14!\n",
      "Hello World from block 2 and thread 15!\n",
      "Hello World from block 2 and thread 16!\n",
      "Hello World from block 2 and thread 17!\n",
      "Hello World from block 2 and thread 18!\n",
      "Hello World from block 2 and thread 19!\n",
      "Hello World from block 2 and thread 20!\n",
      "Hello World from block 2 and thread 21!\n",
      "Hello World from block 2 and thread 22!\n",
      "Hello World from block 2 and thread 23!\n",
      "Hello World from block 2 and thread 24!\n",
      "Hello World from block 2 and thread 25!\n",
      "Hello World from block 2 and thread 26!\n",
      "Hello World from block 2 and thread 27!\n",
      "Hello World from block 2 and thread 28!\n",
      "Hello World from block 2 and thread 29!\n",
      "Hello World from block 2 and thread 30!\n",
      "Hello World from block 2 and thread 31!\n",
      "Hello World from block 1 and thread 0!\n",
      "Hello World from block 1 and thread 1!\n",
      "Hello World from block 1 and thread 2!\n",
      "Hello World from block 1 and thread 3!\n",
      "Hello World from block 1 and thread 4!\n",
      "Hello World from block 1 and thread 5!\n",
      "Hello World from block 1 and thread 6!\n",
      "Hello World from block 1 and thread 7!\n",
      "Hello World from block 1 and thread 8!\n",
      "Hello World from block 1 and thread 9!\n",
      "Hello World from block 1 and thread 10!\n",
      "Hello World from block 1 and thread 11!\n",
      "Hello World from block 1 and thread 12!\n",
      "Hello World from block 1 and thread 13!\n",
      "Hello World from block 1 and thread 14!\n",
      "Hello World from block 1 and thread 15!\n",
      "Hello World from block 1 and thread 16!\n",
      "Hello World from block 1 and thread 17!\n",
      "Hello World from block 1 and thread 18!\n",
      "Hello World from block 1 and thread 19!\n",
      "Hello World from block 1 and thread 20!\n",
      "Hello World from block 1 and thread 21!\n",
      "Hello World from block 1 and thread 22!\n",
      "Hello World from block 1 and thread 23!\n",
      "Hello World from block 1 and thread 24!\n",
      "Hello World from block 1 and thread 25!\n",
      "Hello World from block 1 and thread 26!\n",
      "Hello World from block 1 and thread 27!\n",
      "Hello World from block 1 and thread 28!\n",
      "Hello World from block 1 and thread 29!\n",
      "Hello World from block 1 and thread 30!\n",
      "Hello World from block 1 and thread 31!\n",
      "Hello World from block 4 and thread 0!\n",
      "Hello World from block 4 and thread 1!\n",
      "Hello World from block 4 and thread 2!\n",
      "Hello World from block 4 and thread 3!\n",
      "Hello World from block 4 and thread 4!\n",
      "Hello World from block 4 and thread 5!\n",
      "Hello World from block 4 and thread 6!\n",
      "Hello World from block 4 and thread 7!\n",
      "Hello World from block 4 and thread 8!\n",
      "Hello World from block 4 and thread 9!\n",
      "Hello World from block 4 and thread 10!\n",
      "Hello World from block 4 and thread 11!\n",
      "Hello World from block 4 and thread 12!\n",
      "Hello World from block 4 and thread 13!\n",
      "Hello World from block 4 and thread 14!\n",
      "Hello World from block 4 and thread 15!\n",
      "Hello World from block 4 and thread 16!\n",
      "Hello World from block 4 and thread 17!\n",
      "Hello World from block 4 and thread 18!\n",
      "Hello World from block 4 and thread 19!\n",
      "Hello World from block 4 and thread 20!\n",
      "Hello World from block 4 and thread 21!\n",
      "Hello World from block 4 and thread 22!\n",
      "Hello World from block 4 and thread 23!\n",
      "Hello World from block 4 and thread 24!\n",
      "Hello World from block 4 and thread 25!\n",
      "Hello World from block 4 and thread 26!\n",
      "Hello World from block 4 and thread 27!\n",
      "Hello World from block 4 and thread 28!\n",
      "Hello World from block 4 and thread 29!\n",
      "Hello World from block 4 and thread 30!\n",
      "Hello World from block 4 and thread 31!\n",
      "Hello World from block 0 and thread 0!\n",
      "Hello World from block 0 and thread 1!\n",
      "Hello World from block 0 and thread 2!\n",
      "Hello World from block 0 and thread 3!\n",
      "Hello World from block 0 and thread 4!\n",
      "Hello World from block 0 and thread 5!\n",
      "Hello World from block 0 and thread 6!\n",
      "Hello World from block 0 and thread 7!\n",
      "Hello World from block 0 and thread 8!\n",
      "Hello World from block 0 and thread 9!\n",
      "Hello World from block 0 and thread 10!\n",
      "Hello World from block 0 and thread 11!\n",
      "Hello World from block 0 and thread 12!\n",
      "Hello World from block 0 and thread 13!\n",
      "Hello World from block 0 and thread 14!\n",
      "Hello World from block 0 and thread 15!\n",
      "Hello World from block 0 and thread 16!\n",
      "Hello World from block 0 and thread 17!\n",
      "Hello World from block 0 and thread 18!\n",
      "Hello World from block 0 and thread 19!\n",
      "Hello World from block 0 and thread 20!\n",
      "Hello World from block 0 and thread 21!\n",
      "Hello World from block 0 and thread 22!\n",
      "Hello World from block 0 and thread 23!\n",
      "Hello World from block 0 and thread 24!\n",
      "Hello World from block 0 and thread 25!\n",
      "Hello World from block 0 and thread 26!\n",
      "Hello World from block 0 and thread 27!\n",
      "Hello World from block 0 and thread 28!\n",
      "Hello World from block 0 and thread 29!\n",
      "Hello World from block 0 and thread 30!\n",
      "Hello World from block 0 and thread 31!\n"
     ]
    }
   ],
   "source": [
    "!./Index_of_thread"
   ]
  },
  {
   "cell_type": "markdown",
   "id": "f6a744e6",
   "metadata": {},
   "source": [
    "思考一下为什么会出现这种情况！  \n",
    "  \n",
    "    \n",
    "    "
   ]
  },
  {
   "cell_type": "markdown",
   "id": "a794b2f5",
   "metadata": {},
   "source": [
    "2.那我们如何能够得到一个线程在所有的线程中的索引值？比如：我们申请了4个线程块，每个线程块有8个线程，那么我们就申请了30个线程，那么我需要找到第3个线程块（编号为2的block）里面的第6个线程（编号为5的thread）在所有线程中的索引值怎么办？  \n",
    "这时，我们就需要blockDim 和 gridDim这两个变量：  \n",
    "- gridDim表示一个grid中包含多少个block  \n",
    "- blockDim表示一个block中包含多少个线程  \n",
    "\n",
    "也就是说，在上面的那个例子中，gridDim.x=4, blockDim.x=8  \n",
    "那么，我们要找的第22个线程（编号为21）的唯一索引就应该是，index = blockIdx.x * blockDim.x + threadIdx.x\n",
    "![index_of_thread](index_of_thread.png)"
   ]
  },
  {
   "cell_type": "markdown",
   "id": "cfc2084b",
   "metadata": {},
   "source": [
    "接下来，我们通过完成一个向量加法的实例来实践一下，我们来实现的cpu代码如下:  \n",
    "\n",
    "    #include <math.h>\n",
    "    #include <stdlib.h>\n",
    "    #include <stdio.h>\n",
    "    \n",
    "    void add(const double *x, const double *y, double *z, const int N)\n",
    "    {\n",
    "        for (int n = 0; n < N; ++n)\n",
    "        {\n",
    "            z[n] = x[n] + y[n];\n",
    "        }\n",
    "    }\n",
    "\n",
    "    void check(const double *z, const int N)\n",
    "    {\n",
    "        bool has_error = false;\n",
    "        for (int n = 0; n < N; ++n)\n",
    "        {\n",
    "            if (fabs(z[n] - 3) > (1.0e-10))\n",
    "            {\n",
    "                has_error = true;\n",
    "            }\n",
    "        }\n",
    "        printf(\"%s\\n\", has_error ? \"Errors\" : \"Pass\");\n",
    "    }\n",
    "\n",
    "\n",
    "    int main(void)\n",
    "    {\n",
    "        const int N = 100000000;\n",
    "        const int M = sizeof(double) * N;\n",
    "        double *x = (double*) malloc(M);\n",
    "        double *y = (double*) malloc(M);\n",
    "        double *z = (double*) malloc(M);\n",
    "    \n",
    "        for (int n = 0; n < N; ++n)\n",
    "        {\n",
    "            x[n] = 1;\n",
    "            y[n] = 2;\n",
    "        }\n",
    "\n",
    "        add(x, y, z, N);\n",
    "        check(z, N);\n",
    "    \n",
    "        free(x);\n",
    "        free(y);\n",
    "        free(z);\n",
    "        return 0;\n",
    "    }"
   ]
  },
  {
   "cell_type": "markdown",
   "id": "9466e5c1",
   "metadata": {},
   "source": [
    "为了完成这个程序，我们先要将数据传输给GPU，并在GPU完成计算的时候，将数据从GPU中传输给CPU内存。这时我们就需要考虑如何申请GPU存储单元，以及内存和显存之前的数据传输。在[result2](result2.cu)中我们展示了如何完成这一过程的方法：  \n",
    "\n",
    "我们利用cudaMalloc()来进行GPU存储单元的申请，利用cudaMemcpy()来完成数据的传输"
   ]
  },
  {
   "cell_type": "markdown",
   "id": "8a0c6de6",
   "metadata": {},
   "source": [
    "接下来，我们在[vectorAdd.cu](vectorAdd.cu)文件中完成这一过程，如有困难，请参考[result2](result2.cu)"
   ]
  },
  {
   "cell_type": "markdown",
   "id": "47df3fee",
   "metadata": {},
   "source": [
    "修改Makefile文件，并编译执行"
   ]
  },
  {
   "cell_type": "code",
   "execution_count": 75,
   "id": "8898c9c7",
   "metadata": {},
   "outputs": [
    {
     "name": "stdout",
     "output_type": "stream",
     "text": [
      "/usr/local/cuda/bin/nvcc -arch=compute_80 -code=sm_80 vectorAdd.cu -o ./vectorAdd\n"
     ]
    }
   ],
   "source": [
    "!make -f Makefile_vectoradd"
   ]
  },
  {
   "cell_type": "code",
   "execution_count": 76,
   "id": "1e3b06d1",
   "metadata": {},
   "outputs": [
    {
     "name": "stdout",
     "output_type": "stream",
     "text": [
      "Pass\n"
     ]
    }
   ],
   "source": [
    "!./vectorAdd"
   ]
  },
  {
   "cell_type": "markdown",
   "id": "414c50c7",
   "metadata": {},
   "source": [
    "利用nvprof查看程序性能"
   ]
  },
  {
   "cell_type": "code",
   "execution_count": 41,
   "id": "bcfd8ee8",
   "metadata": {},
   "outputs": [
    {
     "name": "stdout",
     "output_type": "stream",
     "text": [
      "The --print-api-trace  switch is ignored by nsys.\n",
      "WARNING: vectorAdd and any of its children processes will be profiled.\n",
      "\n",
      "Pass\n",
      "Generating '/tmp/nsys-report-b89e.qdstrm'\n",
      "[1/7] [========================100%] report1.nsys-rep\n",
      "[2/7] [========================100%] report1.sqlite\n",
      "[3/7] Executing 'nvtxsum' stats report\n",
      "SKIPPED: /mnt/CUDA_on_ARM/02_2.2/report1.sqlite does not contain NV Tools Extension (NVTX) data.\n",
      "[4/7] Executing 'cudaapisum' stats report\n",
      "\n",
      "CUDA API Statistics:\n",
      "\n",
      " Time (%)  Total Time (ns)  Num Calls   Avg (ns)   Med (ns)  Min (ns)  Max (ns)   StdDev (ns)        Name      \n",
      " --------  ---------------  ---------  ----------  --------  --------  ---------  -----------  ----------------\n",
      "     99.9        204451190          3  68150396.7    6331.0      3950  204440909  118031046.0  cudaMalloc      \n",
      "      0.1           178677          3     59559.0    7709.0      3413     167555      93551.9  cudaFree        \n",
      "      0.0            62352          3     20784.0   23911.0     11294      27147       8376.3  cudaMemcpy      \n",
      "      0.0            23978          1     23978.0   23978.0     23978      23978          0.0  cudaLaunchKernel\n",
      "\n",
      "[5/7] Executing 'gpukernsum' stats report\n",
      "\n",
      "CUDA Kernel Statistics:\n",
      "\n",
      " Time (%)  Total Time (ns)  Instances  Avg (ns)  Med (ns)  Min (ns)  Max (ns)  StdDev (ns)                         Name                       \n",
      " --------  ---------------  ---------  --------  --------  --------  --------  -----------  --------------------------------------------------\n",
      "    100.0             2912          1    2912.0    2912.0      2912      2912          0.0  add(const double *, const double *, double *, int)\n",
      "\n",
      "[6/7] Executing 'gpumemtimesum' stats report\n",
      "\n",
      "CUDA Memory Operation Statistics (by time):\n",
      "\n",
      " Time (%)  Total Time (ns)  Count  Avg (ns)  Med (ns)  Min (ns)  Max (ns)  StdDev (ns)      Operation     \n",
      " --------  ---------------  -----  --------  --------  --------  --------  -----------  ------------------\n",
      "     62.9             3360      2    1680.0    1680.0      1536      1824        203.6  [CUDA memcpy HtoD]\n",
      "     37.1             1984      1    1984.0    1984.0      1984      1984          0.0  [CUDA memcpy DtoH]\n",
      "\n",
      "[7/7] Executing 'gpumemsizesum' stats report\n",
      "\n",
      "CUDA Memory Operation Statistics (by size):\n",
      "\n",
      " Total (MB)  Count  Avg (MB)  Med (MB)  Min (MB)  Max (MB)  StdDev (MB)      Operation     \n",
      " ----------  -----  --------  --------  --------  --------  -----------  ------------------\n",
      "      0.016      2     0.008     0.008     0.008     0.008        0.000  [CUDA memcpy HtoD]\n",
      "      0.008      1     0.008     0.008     0.008     0.008        0.000  [CUDA memcpy DtoH]\n",
      "\n",
      "Generated:\n",
      "    /mnt/CUDA_on_ARM/02_2.2/report1.nsys-rep\n",
      "    /mnt/CUDA_on_ARM/02_2.2/report1.sqlite\n"
     ]
    }
   ],
   "source": [
    "!/usr/local/cuda/bin/nsys nvprof --print-api-trace ./vectorAdd"
   ]
  },
  {
   "cell_type": "markdown",
   "id": "887ee6a9",
   "metadata": {},
   "source": [
    "课后作业：  \n",
    "1. 如果我们设置的线程数过大，比如设置grid_size = (N + block_size - 1) / block_size+10000，会产生什么后果？如何避免这种后果？ \n",
    "2. 如果我们的要处理的数据太多，远远超过我们能申请的线程数怎么办？\n",
    "3. 修改[sobel.cu](sobel.cu)完成Sobel边缘检测kernel优化,如果遇到问题, 请参考[sobel_result.cu](sobel_result.cu)\n",
    "\n",
    "----\n",
    "编译:"
   ]
  },
  {
   "cell_type": "code",
   "execution_count": null,
   "id": "fc3c9774",
   "metadata": {},
   "outputs": [],
   "source": []
  },
  {
   "cell_type": "code",
   "execution_count": 77,
   "id": "034051f5",
   "metadata": {},
   "outputs": [
    {
     "name": "stdout",
     "output_type": "stream",
     "text": [
      "\u001b[01m\u001b[0m\u001b[01msobel.cu(18)\u001b[0m: \u001b[01;35mwarning\u001b[0m #550-D: variable \u001b[01m\"x4\"\u001b[0m was set but never used\n",
      "\n"
     ]
    }
   ],
   "source": [
    "# 这里根据自己的环境进行了修改。\n",
    "!/usr/local/cuda/bin/nvcc -arch=compute_80 -code=sm_80 sobel.cu -L /usr/lib/x86_64-linux-gnu/libopencv*.so -I /usr/include/opencv2 -o sobel"
   ]
  },
  {
   "cell_type": "code",
   "execution_count": 78,
   "id": "90adab2a",
   "metadata": {},
   "outputs": [],
   "source": [
    "#!/usr/local/cuda/bin/nvcc -arch=compute_80 -code=sm_80 sobel.cu -L /usr/lib/aarch64-linux-gnu/libopencv*.so -I /usr/include/opencv4 -o sobel"
   ]
  },
  {
   "cell_type": "markdown",
   "id": "64c0a3e2",
   "metadata": {},
   "source": [
    "执行:"
   ]
  },
  {
   "cell_type": "code",
   "execution_count": 80,
   "id": "b0b6c0d5",
   "metadata": {},
   "outputs": [],
   "source": [
    "!./sobel"
   ]
  },
  {
   "cell_type": "code",
   "execution_count": null,
   "id": "e50bf052",
   "metadata": {},
   "outputs": [],
   "source": []
  }
 ],
 "metadata": {
  "kernelspec": {
   "display_name": "Python 3 (ipykernel)",
   "language": "python",
   "name": "python3"
  },
  "language_info": {
   "codemirror_mode": {
    "name": "ipython",
    "version": 3
   },
   "file_extension": ".py",
   "mimetype": "text/x-python",
   "name": "python",
   "nbconvert_exporter": "python",
   "pygments_lexer": "ipython3",
   "version": "3.8.12"
  }
 },
 "nbformat": 4,
 "nbformat_minor": 5
}
