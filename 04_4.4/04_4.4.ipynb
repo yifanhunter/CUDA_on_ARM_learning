{
 "cells": [
  {
   "cell_type": "markdown",
   "id": "f08067b7",
   "metadata": {},
   "source": [
    "# CUDA编程模型--- 原子操作"
   ]
  },
  {
   "cell_type": "markdown",
   "id": "ee4f22a6",
   "metadata": {},
   "source": [
    "#### 原子操作\n",
    "原子函数对驻留在全局或共享内存中的一个 32 位或 64 位字执行读-修改-写原子操作。"
   ]
  },
  {
   "cell_type": "markdown",
   "id": "0c8f448a",
   "metadata": {},
   "source": [
    "#### 1. atomicAdd()\n",
    "```C++\n",
    "int atomicAdd(int* address, int val);\n",
    "unsigned int atomicAdd(unsigned int* address,\n",
    "                       unsigned int val);\n",
    "unsigned long long int atomicAdd(unsigned long long int* address,\n",
    "                                 unsigned long long int val);\n",
    "float atomicAdd(float* address, float val);\n",
    "double atomicAdd(double* address, double val);\n",
    "__half2 atomicAdd(__half2 *address, __half2 val);\n",
    "__half atomicAdd(__half *address, __half val);\n",
    "__nv_bfloat162 atomicAdd(__nv_bfloat162 *address, __nv_bfloat162 val);\n",
    "__nv_bfloat16 atomicAdd(__nv_bfloat16 *address, __nv_bfloat16 val);\n",
    "```\n",
    "读取位于全局或共享内存中地址 `address` 的 16 位、32 位或 64 位字 `old`，计算 `(old + val)`，并将结果存储回同一地址的内存中。这三个操作在一个原子事务中执行。该函数返回`old`。\n",
    "\n",
    "`atomicAdd()` 的 32 位浮点版本仅受计算能力 2.x 及更高版本的设备支持。\n",
    "\n",
    "`atomicAdd()` 的 64 位浮点版本仅受计算能力 6.x 及更高版本的设备支持。\n",
    "\n",
    "`atomicAdd()` 的 32 位 `__half2` 浮点版本仅受计算能力 6.x 及更高版本的设备支持。 `__half2` 或 `__nv_bfloat162` 加法操作的原子性分别保证两个 `__half` 或 `__nv_bfloat16` 元素中的每一个；不保证整个 `__half2` 或 `__nv_bfloat162` 作为单个 32 位访问是原子的。\n",
    "\n",
    "`atomicAdd()` 的 16 位 `__half` 浮点版本仅受计算能力 7.x 及更高版本的设备支持。\n",
    "\n",
    "`atomicAdd()` 的 16 位 `__nv_bfloat16` 浮点版本仅受计算能力 8.x 及更高版本的设备支持。\n",
    "\n",
    "####  2. atomicSub()\n",
    "```C++\n",
    "int atomicSub(int* address, int val);\n",
    "unsigned int atomicSub(unsigned int* address,\n",
    "                       unsigned int val);\n",
    "```\n",
    "读取位于全局或共享内存中地址`address`的 32 位字 `old`，计算 `(old - val)`，并将结果存储回同一地址的内存中。 这三个操作在一个原子事务中执行。 该函数返回`old`。\n",
    "\n",
    "####  3. atomicExch()\n",
    "```C++\n",
    "int atomicExch(int* address, int val);\n",
    "unsigned int atomicExch(unsigned int* address,\n",
    "                        unsigned int val);\n",
    "unsigned long long int atomicExch(unsigned long long int* address,\n",
    "                                  unsigned long long int val);\n",
    "float atomicExch(float* address, float val);\n",
    "```\n",
    "读取位于全局或共享内存中地址address的 32 位或 64 位字 `old` 并将 `val` 存储回同一地址的内存中。 这两个操作在一个原子事务中执行。 该函数返回`old`。\n",
    "\n",
    "####  4. atomicMin()\n",
    "```C++\n",
    "int atomicMin(int* address, int val);\n",
    "unsigned int atomicMin(unsigned int* address,\n",
    "                       unsigned int val);\n",
    "unsigned long long int atomicMin(unsigned long long int* address,\n",
    "                                 unsigned long long int val);\n",
    "long long int atomicMin(long long int* address,\n",
    "                                long long int val);\n",
    "```\n",
    "读取位于全局或共享内存中地址`address`的 32 位或 64 位字 `old`，计算 `old` 和 `val` 的最小值，并将结果存储回同一地址的内存中。 这三个操作在一个原子事务中执行。 该函数返回`old`。\n",
    "\n",
    "`atomicMin()` 的 64 位版本仅受计算能力 3.5 及更高版本的设备支持。\n",
    "\n",
    "####  5. atomicMax()\n",
    "```C++\n",
    "int atomicMax(int* address, int val);\n",
    "unsigned int atomicMax(unsigned int* address,\n",
    "                       unsigned int val);\n",
    "unsigned long long int atomicMax(unsigned long long int* address,\n",
    "                                 unsigned long long int val);\n",
    "long long int atomicMax(long long int* address,\n",
    "                                 long long int val);\n",
    "```\n",
    "读取位于全局或共享内存中地址`address`的 32 位或 64 位字 `old`，计算 `old` 和 `val` 的最大值，并将结果存储回同一地址的内存中。 这三个操作在一个原子事务中执行。 该函数返回`old`。\n",
    "\n",
    "`atomicMax()` 的 64 位版本仅受计算能力 3.5 及更高版本的设备支持。\n",
    "\n",
    "####  6. atomicInc()\n",
    "```C++\n",
    "unsigned int atomicInc(unsigned int* address,\n",
    "                       unsigned int val);\n",
    "```\n",
    "\n",
    "读取位于全局或共享内存中地址`address`的 32 位字 `old`，计算 `((old >= val) ? 0 : (old+1))`，并将结果存储回同一地址的内存中。 这三个操作在一个原子事务中执行。 该函数返回`old`。\n",
    "\n",
    "####  7. atomicDec()\n",
    "```C++\n",
    "unsigned int atomicDec(unsigned int* address,\n",
    "                       unsigned int val);\n",
    "```\n",
    "读取位于全局或共享内存中地址`address`的 32 位字 `old`，计算 `(((old == 0) || (old > val)) ? val : (old-1) )`，并将结果存储回同一个地址的内存。 这三个操作在一个原子事务中执行。 该函数返回`old`。\n",
    "\n",
    "####  8. atomicCAS()\n",
    "```C++\n",
    "int atomicCAS(int* address, int compare, int val);\n",
    "unsigned int atomicCAS(unsigned int* address,\n",
    "                       unsigned int compare,\n",
    "                       unsigned int val);\n",
    "unsigned long long int atomicCAS(unsigned long long int* address,\n",
    "                                 unsigned long long int compare,\n",
    "                                 unsigned long long int val);\n",
    "unsigned short int atomicCAS(unsigned short int *address, \n",
    "                             unsigned short int compare, \n",
    "                             unsigned short int val);\n",
    "```\n",
    "读取位于全局或共享内存中地址`address`的 16 位、32 位或 64 位字 `old`，计算 `(old == compare ? val : old)` ，并将结果存储回同一地址的内存中。 这三个操作在一个原子事务中执行。 该函数返回`old`（Compare And Swap）。\n",
    "\n",
    "###   Bitwise Functions\n",
    "\n",
    "####  9. atomicAnd()\n",
    "```C++\n",
    "int atomicAnd(int* address, int val);\n",
    "unsigned int atomicAnd(unsigned int* address,\n",
    "                       unsigned int val);\n",
    "unsigned long long int atomicAnd(unsigned long long int* address,\n",
    "                                 unsigned long long int val);\n",
    "```\n",
    "读取位于全局或共享内存中地址`address`的 32 位或 64 位字 `old`，计算 `(old & val)`，并将结果存储回同一地址的内存中。 这三个操作在一个原子事务中执行。 该函数返回`old`。\n",
    "\n",
    "`atomicAnd()` 的 64 位版本仅受计算能力 3.5 及更高版本的设备支持。\n",
    "\n",
    "####  10. atomicOr()\n",
    "```C++\n",
    "int atomicOr(int* address, int val);\n",
    "unsigned int atomicOr(unsigned int* address,\n",
    "                      unsigned int val);\n",
    "unsigned long long int atomicOr(unsigned long long int* address,\n",
    "                                unsigned long long int val);\n",
    "```\n",
    "读取位于全局或共享内存中地址`address`的 32 位或 64 位字 `old`，计算 `(old | val)`，并将结果存储回同一地址的内存中。 这三个操作在一个原子事务中执行。 该函数返回`old`。\n",
    "\n",
    "`atomicOr()` 的 64 位版本仅受计算能力 3.5 及更高版本的设备支持。\n",
    "\n",
    "####  11. atomicXor()\n",
    "```C++\n",
    "int atomicXor(int* address, int val);\n",
    "unsigned int atomicXor(unsigned int* address,\n",
    "                       unsigned int val);\n",
    "unsigned long long int atomicXor(unsigned long long int* address,\n",
    "                                 unsigned long long int val);\n",
    "```\n",
    "读取位于全局或共享内存中地址`address`的 32 位或 64 位字 `old`，计算 `(old ^ val)`，并将结果存储回同一地址的内存中。 这三个操作在一个原子事务中执行。 该函数返回`old`。\n",
    "\n",
    "`atomicXor()` 的 64 位版本仅受计算能力 3.5 及更高版本的设备支持。"
   ]
  },
  {
   "cell_type": "markdown",
   "id": "ab567e52",
   "metadata": {},
   "source": [
    "----\n",
    "接下来我们完成下面的一个实例：  \n",
    "给定一个数组A，它好办1000000个int类型的元素，求他所有的元素之和：  \n",
    "输入：A[1000000]  \n",
    "输出：output（A中所有元素之和）  \n",
    "\n",
    "在[sum.cu](sum.cu)中完成上述实例，如果遇到困难，请参考[result.cu](result_sum.cu)\n"
   ]
  },
  {
   "cell_type": "markdown",
   "id": "7a23a73c",
   "metadata": {},
   "source": [
    "编译，并执行程序"
   ]
  },
  {
   "cell_type": "code",
   "execution_count": null,
   "id": "5e1ad3fe",
   "metadata": {},
   "outputs": [],
   "source": [
    "!make"
   ]
  },
  {
   "cell_type": "code",
   "execution_count": null,
   "id": "2045de01",
   "metadata": {},
   "outputs": [],
   "source": [
    "!./sum"
   ]
  },
  {
   "cell_type": "markdown",
   "id": "fd46e2b7",
   "metadata": {},
   "source": [
    "利用nvprof测试程序性能"
   ]
  },
  {
   "cell_type": "code",
   "execution_count": null,
   "id": "f275e7e6",
   "metadata": {},
   "outputs": [],
   "source": [
    "!sudo /usr/local/cuda/bin/nvprof ./sum"
   ]
  },
  {
   "cell_type": "markdown",
   "id": "d6bca859",
   "metadata": {},
   "source": [
    "课后作业：\n",
    "1. 给定数组A[1000000]找出其中最大的值和最小的值\n",
    "2. 给定数组A[1000000]找出其中最大的十个值\n",
    "3. 修改02_2.4中的[im2gray.cu](im2gray.cu)文件, 完成灰度直方图的统计任务. 如果遇到问题, 请参考[cuda_hist.cu](cuda_hist.cu)"
   ]
  },
  {
   "cell_type": "code",
   "execution_count": null,
   "id": "5c376fef",
   "metadata": {},
   "outputs": [],
   "source": []
  }
 ],
 "metadata": {
  "kernelspec": {
   "display_name": "Python 3",
   "language": "python",
   "name": "python3"
  },
  "language_info": {
   "codemirror_mode": {
    "name": "ipython",
    "version": 3
   },
   "file_extension": ".py",
   "mimetype": "text/x-python",
   "name": "python",
   "nbconvert_exporter": "python",
   "pygments_lexer": "ipython3",
   "version": "3.6.9"
  }
 },
 "nbformat": 4,
 "nbformat_minor": 5
}
