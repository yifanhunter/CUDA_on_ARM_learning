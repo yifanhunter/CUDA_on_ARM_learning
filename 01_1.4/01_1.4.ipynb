{
 "cells": [
  {
   "cell_type": "markdown",
   "id": "4794e884",
   "metadata": {},
   "source": [
    "# CUDA编程模型---初识CUDA"
   ]
  },
  {
   "cell_type": "markdown",
   "id": "6498e64d",
   "metadata": {},
   "source": [
    "### 本次实验将介绍如何：\n",
    "1. 编写第一个Cuda程序\n",
    "2. 利用NVCC进行编译\n",
    "3. 编写Makefile文件\n",
    "4. 利用nvprof查看程序性能"
   ]
  },
  {
   "cell_type": "markdown",
   "id": "871b723e",
   "metadata": {},
   "source": [
    "----\n",
    "## 1.编写第一个Cuda程序\n",
    "- 关键词：\"\\_\\_global\\_\\_\" ,  <<<...>>>  ,  .cu\n"
   ]
  },
  {
   "cell_type": "markdown",
   "id": "f975082f",
   "metadata": {},
   "source": [
    "在当前的目录下创建一个名为hello_cuda.cu的文件，编写第一个Cuda程序：\n",
    "- 当我们编写一个hello_word程序的时候，我们通常会这样写："
   ]
  },
  {
   "cell_type": "markdown",
   "id": "97e897f1",
   "metadata": {},
   "source": [
    "    #include <stdio.h>\n",
    "\n",
    "    void hello_from_cpu()\n",
    "    {\n",
    "        printf(\"Hello World from the CPU!\\n\");\n",
    "    }\n",
    "\n",
    "    int main(void)\n",
    "    {\n",
    "        hello_from_cpu();\n",
    "        return 0;\n",
    "    }"
   ]
  },
  {
   "cell_type": "markdown",
   "id": "cfdbe63c",
   "metadata": {},
   "source": [
    "- 如果我们要把它改成调用GPU的时候，我们需要在void hello_from_cpu()之前加入 \\_\\_global\\_\\_标识符，并且在调用这个函数的时候添加<<<...>>>来设定执行设置\n",
    "- 在当前的目录下创建一个名为[hello_cuda.cu](hello_cuda.cu)的文件，更改上述程序，将它改为在GPU上执行的程序，如果遇到麻烦，请参考[hello_cuda02.cu](hello_cuda02.cu)"
   ]
  },
  {
   "cell_type": "markdown",
   "id": "2bccb06d",
   "metadata": {},
   "source": [
    "----\n",
    "## 2.编写完成之后，我们要开始编译并执行程序，在这里我们可以利用nvcc进行编译，指令如下："
   ]
  },
  {
   "cell_type": "code",
   "execution_count": 3,
   "id": "775d88bf",
   "metadata": {},
   "outputs": [
    {
     "name": "stdout",
     "output_type": "stream",
     "text": [
      "Hello World from the GPU!\n"
     ]
    }
   ],
   "source": [
    "!/usr/local/cuda/bin/nvcc -arch=compute_80 -code=sm_80 hello_cuda.cu -o hello_cuda -run"
   ]
  },
  {
   "cell_type": "markdown",
   "id": "5173d67e",
   "metadata": {},
   "source": [
    "----\n",
    "## 3.这里我们也可以利用编写Makefile的方式来进行编译，一个简单的例子可以参考[Makefile](Makefile)"
   ]
  },
  {
   "cell_type": "code",
   "execution_count": 10,
   "id": "15eee175",
   "metadata": {},
   "outputs": [
    {
     "name": "stdout",
     "output_type": "stream",
     "text": [
      "/usr/local/cuda/bin/nvcc --device-c hello_from_gpu.cu -o hello_from_gpu.o\n",
      "/usr/local/cuda/bin/nvcc  hello_cuda02-test.cu hello_from_gpu.o -o ./hello_cuda_multi_file\n"
     ]
    }
   ],
   "source": [
    "!make"
   ]
  },
  {
   "cell_type": "markdown",
   "id": "e1b29aad",
   "metadata": {},
   "source": [
    "然后我们就可以得到一个名为hello_cuda.exe的程序，我们开始执行一下"
   ]
  },
  {
   "cell_type": "code",
   "execution_count": 11,
   "id": "3289b1d8",
   "metadata": {},
   "outputs": [
    {
     "name": "stdout",
     "output_type": "stream",
     "text": [
      "Hello World from the GPU!\n"
     ]
    }
   ],
   "source": [
    "!./hello_cuda"
   ]
  },
  {
   "cell_type": "markdown",
   "id": "ff6be322",
   "metadata": {},
   "source": [
    "接下来我们尝试多个文件协同编译, 修改[Makefile](Makefile)文件:\n",
    "1. 编译hello_from_gpu.cu文件生成hello_from_gpu.o\n",
    "2. 编译hello_cuda02-test.cu和上一步生成的hello_from_gpu.o, 生成./hello_cuda_multi_file\n",
    "\n",
    "如果遇到麻烦, 请参考[Makefile_Multi_file](Makefile_Multi_file)"
   ]
  },
  {
   "cell_type": "code",
   "execution_count": 12,
   "id": "c092c206",
   "metadata": {},
   "outputs": [
    {
     "name": "stdout",
     "output_type": "stream",
     "text": [
      "make: 'hello_cuda_multi_file' is up to date.\n"
     ]
    }
   ],
   "source": [
    "!make"
   ]
  },
  {
   "cell_type": "code",
   "execution_count": 13,
   "id": "eeb8e50e",
   "metadata": {},
   "outputs": [],
   "source": [
    "!./hello_cuda_multi_file"
   ]
  },
  {
   "cell_type": "code",
   "execution_count": 14,
   "id": "a8a88105",
   "metadata": {},
   "outputs": [
    {
     "name": "stdout",
     "output_type": "stream",
     "text": [
      "rm -rf ./hello_cuda_multi_file\n",
      "rm -rf *.o\n"
     ]
    }
   ],
   "source": [
    "!make clean"
   ]
  },
  {
   "cell_type": "markdown",
   "id": "b9917ced",
   "metadata": {},
   "source": [
    "这时，您已经完成了第一个Cuda程序，接下来修改<<<...>>>里面的信息，查看显示效果，如果遇到麻烦，请参考[hello_cuda03.cu](hello_cuda03.cu)"
   ]
  },
  {
   "cell_type": "markdown",
   "id": "5847ad4f",
   "metadata": {},
   "source": [
    "----\n",
    "## 4.利用nvprof进行查看程序性能"
   ]
  },
  {
   "cell_type": "code",
   "execution_count": 15,
   "id": "d2591d0f-47d4-4bcd-b8bd-d78d2affc36f",
   "metadata": {},
   "outputs": [
    {
     "name": "stdout",
     "output_type": "stream",
     "text": [
      "The --print-api-trace  switch is ignored by nsys.\n",
      "WARNING: hello_cuda and any of its children processes will be profiled.\n",
      "\n",
      "Hello World from the GPU!\n",
      "Generating '/tmp/nsys-report-43b5.qdstrm'\n",
      "[1/7] [========================100%] report2.nsys-rep\n",
      "[2/7] [========================100%] report2.sqlite\n",
      "[3/7] Executing 'nvtxsum' stats report\n",
      "SKIPPED: /mnt/CUDA_on_ARM/01_1.4/report2.sqlite does not contain NV Tools Extension (NVTX) data.\n",
      "[4/7] Executing 'cudaapisum' stats report\n",
      "\n",
      "CUDA API Statistics:\n",
      "\n",
      " Time (%)  Total Time (ns)  Num Calls    Avg (ns)      Med (ns)     Min (ns)    Max (ns)   StdDev (ns)          Name         \n",
      " --------  ---------------  ---------  ------------  ------------  ----------  ----------  -----------  ---------------------\n",
      "    100.0       1034527581          1  1034527581.0  1034527581.0  1034527581  1034527581          0.0  cudaLaunchKernel     \n",
      "      0.0            47468          1       47468.0       47468.0       47468       47468          0.0  cudaDeviceSynchronize\n",
      "\n",
      "[5/7] Executing 'gpukernsum' stats report\n",
      "\n",
      "CUDA Kernel Statistics:\n",
      "\n",
      " Time (%)  Total Time (ns)  Instances  Avg (ns)  Med (ns)  Min (ns)  Max (ns)  StdDev (ns)         Name        \n",
      " --------  ---------------  ---------  --------  --------  --------  --------  -----------  -------------------\n",
      "    100.0            37824          1   37824.0   37824.0     37824     37824          0.0  _Z14hello_from_gpuv\n",
      "\n",
      "[6/7] Executing 'gpumemtimesum' stats report\n",
      "SKIPPED: /mnt/CUDA_on_ARM/01_1.4/report2.sqlite does not contain GPU memory data.\n",
      "[7/7] Executing 'gpumemsizesum' stats report\n",
      "SKIPPED: /mnt/CUDA_on_ARM/01_1.4/report2.sqlite does not contain GPU memory data.\n",
      "Generated:\n",
      "    /mnt/CUDA_on_ARM/01_1.4/report2.nsys-rep\n",
      "    /mnt/CUDA_on_ARM/01_1.4/report2.sqlite\n"
     ]
    }
   ],
   "source": [
    "!/usr/local/cuda/bin/nsys nvprof --print-api-trace ./hello_cuda"
   ]
  },
  {
   "cell_type": "code",
   "execution_count": 16,
   "id": "9b61f9ef",
   "metadata": {},
   "outputs": [
    {
     "name": "stdout",
     "output_type": "stream",
     "text": [
      "Unknown command: --print-api-trace\n",
      " usage: nsys [--version] [--help] <command> [<args>] [application] [<application args>]\n",
      "\n",
      " The most commonly used nsys commands are:\n",
      "\tprofile       Run an application and capture its profile into a QDSTRM file.\n",
      "\tlaunch        Launch an application ready to be profiled.\n",
      "\tstart         Start a profiling session.\n",
      "\tstop          Stop a profiling session and capture its profile into a QDSTRM file.\n",
      "\tcancel        Cancel a profiling session and discard any collected data.\n",
      "\tstats         Generate statistics from an existing nsys-rep or SQLite file.\n",
      "\tstatus        Provide current status of CLI or the collection environment.\n",
      "\tshutdown      Disconnect launched processes from the profiler and shutdown the profiler.\n",
      "\tsessions list List active sessions.\n",
      "\texport        Export nsys-rep file into another format.\n",
      "\tanalyze       Run rules on an existing nsys-rep or SQLITE file.\n",
      "\tnvprof        Translate nvprof switches to nsys switches and execute collection.\n",
      "\n",
      " Use 'nsys --help <command>' for more information about a specific command.\n",
      "\n",
      " To run a basic profiling session:   nsys profile ./my-application\n",
      " For more details see \"Profiling from the CLI\" at https://docs.nvidia.com/nsight-systems\n"
     ]
    }
   ],
   "source": [
    "!/usr/local/cuda/bin/nsys --print-api-trace ./hello_cuda"
   ]
  },
  {
   "cell_type": "markdown",
   "id": "73e75367",
   "metadata": {},
   "source": [
    "- Profiling result：是GPU（kernel函数）上运行的时间\n",
    "- API calls：是在cpu上测量的程序调用API的时间"
   ]
  },
  {
   "cell_type": "markdown",
   "id": "e320ef26",
   "metadata": {},
   "source": [
    "课后作业：\n",
    "1. 利用Makefile规则，尝试编写批量编译工具，比如：同时编译5个cuda程序。\n",
    "2. 利用Makefile规则，尝试加入链接库，比如：加入cuBLAS库编译cuda程序。\n",
    "3. 阅读Cuda sample code，尝试编写程序得到当前GPU的属性参数等。\n",
    "4. 阅读[nvprof](https://docs.nvidia.com/cuda/profiler-users-guide/index.html#nvprof-overview) 说明文档，了解更多nvprof的使用方法，为后续课程中使用做"
   ]
  }
 ],
 "metadata": {
  "kernelspec": {
   "display_name": "Python 3 (ipykernel)",
   "language": "python",
   "name": "python3"
  },
  "language_info": {
   "codemirror_mode": {
    "name": "ipython",
    "version": 3
   },
   "file_extension": ".py",
   "mimetype": "text/x-python",
   "name": "python",
   "nbconvert_exporter": "python",
   "pygments_lexer": "ipython3",
   "version": "3.8.10"
  }
 },
 "nbformat": 4,
 "nbformat_minor": 5
}
